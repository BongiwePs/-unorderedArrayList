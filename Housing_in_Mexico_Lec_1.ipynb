{
  "nbformat": 4,
  "nbformat_minor": 0,
  "metadata": {
    "colab": {
      "provenance": [],
      "include_colab_link": true
    },
    "kernelspec": {
      "name": "python3",
      "display_name": "Python 3"
    },
    "language_info": {
      "name": "python"
    }
  },
  "cells": [
    {
      "cell_type": "markdown",
      "metadata": {
        "id": "view-in-github",
        "colab_type": "text"
      },
      "source": [
        "<a href=\"https://colab.research.google.com/github/BongiwePs/-unorderedArrayList/blob/main/Housing_in_Mexico_Lec_1.ipynb\" target=\"_parent\"><img src=\"https://colab.research.google.com/assets/colab-badge.svg\" alt=\"Open In Colab\"/></a>"
      ]
    },
    {
      "cell_type": "markdown",
      "source": [
        "<font size=\"+3\"><strong>1.1. Organizing Tabular Data in Python</strong></font>"
      ],
      "metadata": {
        "id": "n-dvle8A2n3d"
      }
    },
    {
      "cell_type": "markdown",
      "source": [
        "**What's Tabular Data?**"
      ],
      "metadata": {
        "id": "q6bnLb823dfg"
      }
    },
    {
      "cell_type": "markdown",
      "source": [
        "Information can come in many forms, and part of a data scientist's job is making sure that information is organized in a way that's conducive to analysis. Take for example these five houses from the Mexico real estate dataset we'll use in this project:\n",
        "\n",
        "Five houses showing price, number of rooms, and area in square meters for each\n",
        "\n",
        "One common way to organize this information is in a table, which is a group of cells organized into rows and columns.\n",
        "\n",
        "Table, organized into rows and columns, with housing information\n",
        "\n",
        "When working with this sort of tabular data, it's important to organize row and columns following the principles of [\"tidy data.\"](https://en.wikipedia.org/wiki/Glossary_of_probability_and_statistics#tidy_data) What does that mean in the case of our dataset?\n",
        "\n",
        "    Each row corresponds to a single house in our dataset. We'll call each of these houses an observation.\n",
        "    Each column corresponds to a characteristic of each house. We'll call these features.\n",
        "    Each cell contains only one value.\n",
        "\n"
      ],
      "metadata": {
        "id": "p3kec19D3rsb"
      }
    },
    {
      "cell_type": "markdown",
      "source": [
        "**Tabular Data and Python Data Structures**\n",
        "**Working with Lists**\n",
        "\n",
        "Python comes with several data structures that we can use to organize tabular data. Let's start by putting a single observation in a list.\n"
      ],
      "metadata": {
        "id": "N1Wj7hh96rz9"
      }
    },
    {
      "cell_type": "code",
      "source": [
        "# Declare variable `house_0_list`\n",
        "house_0_list = [115910.26, 128, 4]\n",
        "\n",
        "# Print object type of `house_0_list`\n",
        "# (We'll learn more about object types in later projects 😉)\n",
        "print(\"house_0_list type:\", type(house_0_list))\n",
        "\n",
        "# Print length of `house_0_list`\n",
        "print(\"house_0_list length:\", len(house_0_list))\n",
        "\n",
        "# Get output of `house_0_list`\n",
        "house_0_list"
      ],
      "metadata": {
        "id": "kiXr93hv7EFH"
      },
      "execution_count": null,
      "outputs": []
    },
    {
      "cell_type": "markdown",
      "source": [
        "**Output**\n"
      ],
      "metadata": {
        "id": "0g21QkVa7Myw"
      }
    },
    {
      "cell_type": "code",
      "source": [
        "house_0_list type: <class 'list'>\n",
        "house_0_list length: 3\n",
        "[115910.26, 128, 4]"
      ],
      "metadata": {
        "id": "d7IJj0_gRkBU"
      },
      "execution_count": null,
      "outputs": []
    },
    {
      "cell_type": "markdown",
      "source": [
        "**Task 1.1.1:** One metric that people in the real estate industry look at is price per square meter because it allows them to compare houses of different sizes. Can you use the information in this list to calculate the price per square meter for house_0?\n",
        "\n",
        "    "
      ],
      "metadata": {
        "id": "K5I_TLPv7vB5"
      }
    },
    {
      "cell_type": "code",
      "source": [
        "# Declare variable `house_0_price_m2`\n",
        "house_0_price_m2 = house_0_list[0]/ house_0_list[1]\n",
        "# Print object type of `house_0_price_m2`\n",
        "print(\"house_0_price_m2 type:\", type(house_0_price_m2))\n",
        "\n",
        "# Get output of `house_0_price_m2`\n",
        "house_0_price_m2"
      ],
      "metadata": {
        "id": "0kZlyujX7-fw"
      },
      "execution_count": null,
      "outputs": []
    },
    {
      "cell_type": "markdown",
      "source": [
        "**Output**"
      ],
      "metadata": {
        "id": "IX5_Af2r8Es6"
      }
    },
    {
      "cell_type": "code",
      "source": [
        "house_0_price_m2 type: <class 'float'>\n",
        "\n",
        "905.54890625"
      ],
      "metadata": {
        "id": "8rq2IhbMSRq4"
      },
      "execution_count": null,
      "outputs": []
    },
    {
      "cell_type": "markdown",
      "source": [
        "**Task 1.1.2:** Next, use the append method to add the price per square meter to the end of the end of house_0."
      ],
      "metadata": {
        "id": "SOqH8iJS8QYj"
      }
    },
    {
      "cell_type": "code",
      "source": [
        "# Append price / sq. meter to `house_0_list`\n",
        "\n",
        "# Print object type of `house_0_list`\n",
        "print(\"house_0_list type:\", type(house_0_list))\n",
        "\n",
        "# Print length of `house_0_list`\n",
        "print(\"house_0_list length:\", len(house_0_list))\n",
        "\n",
        "# Get output of `house_0_list`\n",
        "house_0_list"
      ],
      "metadata": {
        "id": "W1-efJIp9mWV"
      },
      "execution_count": null,
      "outputs": []
    },
    {
      "cell_type": "markdown",
      "source": [
        "**Output**"
      ],
      "metadata": {
        "id": "GbQGjhhpUYXr"
      }
    },
    {
      "cell_type": "code",
      "source": [
        "house_0_list type: <class 'list'>\n",
        "house_0_list length: 3\n",
        "\n",
        "[115910.26, 128, 4]"
      ],
      "metadata": {
        "id": "Ec8Q-g0zTQq1"
      },
      "execution_count": null,
      "outputs": []
    },
    {
      "cell_type": "markdown",
      "source": [
        "Now that you can work with data for a single house, let's think about how to organize the whole dataset. One option would be to create a list for each observation and then put those together in another list. This is called a nested list."
      ],
      "metadata": {
        "id": "gXLjnoPk9-Av"
      }
    },
    {
      "cell_type": "code",
      "source": [
        "# Declare variable `houses_nested_list`\n",
        "houses_nested_list = [\n",
        "    [115910.26, 128.0, 4.0],\n",
        "    [48718.17, 210.0, 3.0],\n",
        "    [28977.56, 58.0, 2.0],\n",
        "    [36932.27, 79.0, 3.0],\n",
        "    [83903.51, 111.0, 3.0],\n",
        "]\n",
        "\n",
        "# Print `houses_nested_list` type\n",
        "print(\"houses_nested_list type:\", type(houses_nested_list))\n",
        "\n",
        "# Print `houses_nested_list` length\n",
        "print(\"houses_nested_list length:\", len(houses_nested_list))\n",
        "\n",
        "# Get output of `houses_nested_list`\n",
        "houses_nested_list"
      ],
      "metadata": {
        "id": "6eRcdbK1DdhL"
      },
      "execution_count": null,
      "outputs": []
    },
    {
      "cell_type": "markdown",
      "source": [
        "**Output**"
      ],
      "metadata": {
        "id": "S6Fmzr44UhFz"
      }
    },
    {
      "cell_type": "code",
      "source": [
        "houses_nested_list type: <class 'list'>\n",
        "houses_nested_list length: 5\n",
        "\n",
        "[[115910.26, 128.0, 4.0],\n",
        " [48718.17, 210.0, 3.0],\n",
        " [28977.56, 58.0, 2.0],\n",
        " [36932.27, 79.0, 3.0],\n",
        " [83903.51, 111.0, 3.0]]\n",
        "\n",
        "Now that we have more observations, it doesn't make sense to calculate the price per square meter for each house one-by-one. Instead, we can automate this repetitive task using a for loop.\n"
      ],
      "metadata": {
        "id": "jveCshpPTVzA"
      },
      "execution_count": null,
      "outputs": []
    },
    {
      "cell_type": "markdown",
      "source": [
        "**Task 1.1.3: Append the price per square meter to each observation in houses_nested_list using a for loop.**"
      ],
      "metadata": {
        "id": "9TARqrY7Dsy3"
      }
    },
    {
      "cell_type": "code",
      "source": [
        "# Create for loop to iterate through `houses_nested_list`\n",
        "\n",
        "    # For each observation, append price / sq. meter\n",
        "for house in houses_nested_list:\n",
        "    price_m2=house[0]/house[1]\n",
        "    house.append(price_m2)\n",
        "houses_nested_list\n",
        "\n",
        "# Print `houses_nested_list` type\n",
        "print(\"houses_nested_list type:\", type(houses_nested_list))\n",
        "\n",
        "# Print `houses_nested_list` length\n",
        "print(\"houses_nested_list length:\", len(houses_nested_list))\n",
        "\n",
        "# Get output of `houses_nested_list`\n",
        "houses_nested_list"
      ],
      "metadata": {
        "id": "gDTf48D7D3Lk"
      },
      "execution_count": null,
      "outputs": []
    },
    {
      "cell_type": "markdown",
      "source": [
        "**Output**"
      ],
      "metadata": {
        "id": "pWgRO5AAUq4I"
      }
    },
    {
      "cell_type": "code",
      "source": [
        "houses_nested_list type: <class 'list'>\n",
        "houses_nested_list length: 5\n",
        "\n",
        "[[115910.26,\n",
        "  128.0,\n",
        "  4.0,\n",
        "  905.54890625,\n",
        "  905.54890625,\n",
        "  905.54890625,\n",
        "  905.54890625,\n",
        "  905.54890625,\n",
        "  905.54890625],\n",
        " [48718.17,\n",
        "  210.0,\n",
        "  3.0,\n",
        "  231.9912857142857,\n",
        "  231.9912857142857,\n",
        "  231.9912857142857,\n",
        "  231.9912857142857,\n",
        "  231.9912857142857,\n",
        "  231.9912857142857],\n",
        " [28977.56,\n",
        "  58.0,\n",
        "  2.0,\n",
        "  499.61310344827587,\n",
        "  499.61310344827587,\n",
        "  499.61310344827587,\n",
        "  499.61310344827587,\n",
        "  499.61310344827587,\n",
        "  499.61310344827587],\n",
        " [36932.27,\n",
        "  79.0,\n",
        "  3.0,\n",
        "  467.4970886075949,\n",
        "  467.4970886075949,\n",
        "  467.4970886075949,\n",
        "  467.4970886075949,\n",
        "  467.4970886075949,\n",
        "  467.4970886075949],\n",
        " [83903.51,\n",
        "  111.0,\n",
        "  3.0,\n",
        "  755.8874774774774,\n",
        "  755.8874774774774,\n",
        "  755.8874774774774,\n",
        "  755.8874774774774,\n",
        "  755.8874774774774,\n",
        "  755.8874774774774]]"
      ],
      "metadata": {
        "id": "g926JhmlTb_x"
      },
      "execution_count": null,
      "outputs": []
    },
    {
      "cell_type": "markdown",
      "source": [
        "**Working with Dictionaries**\n",
        "\n",
        "Lists are a good way to organize data, but one drawback is that we can only represent values. Why is that a problem? For example, someone looking at [115910.26, 128.0, 4] wouldn't know which values corresponded to price, area, etc. A better option might be a dictionary, where each value is associated with a key. Here's what house_0 looks like as a dictionary instead of a list."
      ],
      "metadata": {
        "id": "KjIJknVYD9mW"
      }
    },
    {
      "cell_type": "code",
      "source": [
        "# Declare variable `house_0_dict`\n",
        "house_0_dict = {\n",
        "    \"price_approx_usd\": 115910.26,\n",
        "    \"surface_covered_in_m2\": 128,\n",
        "    \"rooms\": 4,\n",
        "}\n",
        "\n",
        "# Print `house_0_dict` type\n",
        "print(\"house_0_dict type:\", type(house_0_dict))\n",
        "\n",
        "# Get output of `house_0_dict`\n",
        "house_0_dict"
      ],
      "metadata": {
        "id": "87FtX8lCEGDo"
      },
      "execution_count": null,
      "outputs": []
    },
    {
      "cell_type": "markdown",
      "source": [
        "**Output**"
      ],
      "metadata": {
        "id": "aPVhkcP3Uy-M"
      }
    },
    {
      "cell_type": "code",
      "source": [
        "house_0_dict type: <class 'dict'>\n",
        "\n",
        "{'price_approx_usd': 115910.26, 'surface_covered_in_m2': 128, 'rooms': 4}\n",
        "\n"
      ],
      "metadata": {
        "id": "w6m8wM8vTh7t"
      },
      "execution_count": null,
      "outputs": []
    },
    {
      "cell_type": "markdown",
      "source": [
        "**Task 1.1.4: Calculate the price per square meter for house_0 and add it to the dictionary under the key \"price_per_m2\".**"
      ],
      "metadata": {
        "id": "sz7xJUagEQpZ"
      }
    },
    {
      "cell_type": "code",
      "source": [
        "# Add \"price_per_m2\" key-value pair to `house_0_dict`\n",
        "house_0_dict[\"price_per_m2\"] = house_0_dict[\"price_approx_usd\"] / house_0_dict[\"surface_covered_in_m2\"]\n",
        "\n",
        "# Get output of `house_0_dict`\n",
        "house_0_dict"
      ],
      "metadata": {
        "id": "ro-VjegIEVKX"
      },
      "execution_count": null,
      "outputs": []
    },
    {
      "cell_type": "markdown",
      "source": [
        "**Output**"
      ],
      "metadata": {
        "id": "7zkIHSODU0yg"
      }
    },
    {
      "cell_type": "code",
      "source": [
        "{'price_approx_usd': 115910.26,\n",
        " 'surface_covered_in_m2': 128,\n",
        " 'rooms': 4,\n",
        " 'price_per_m2': 905.54890625}"
      ],
      "metadata": {
        "id": "ZYMpWKtfTqfM"
      },
      "execution_count": null,
      "outputs": []
    },
    {
      "cell_type": "markdown",
      "source": [
        "If we wanted to combine all our observations together, the best way would be to create a list of dictionaries."
      ],
      "metadata": {
        "id": "FKtI01jtE_nB"
      }
    },
    {
      "cell_type": "code",
      "source": [
        "# Declare variable `houses_rowwise`\n",
        "houses_rowwise = [\n",
        "    {\n",
        "        \"price_approx_usd\": 115910.26,\n",
        "        \"surface_covered_in_m2\": 128,\n",
        "        \"rooms\": 4,\n",
        "    },\n",
        "    {\n",
        "        \"price_approx_usd\": 48718.17,\n",
        "        \"surface_covered_in_m2\": 210,\n",
        "        \"rooms\": 3,\n",
        "    },\n",
        "    {\n",
        "        \"price_approx_usd\": 28977.56,\n",
        "        \"surface_covered_in_m2\": 58,\n",
        "        \"rooms\": 2,\n",
        "    },\n",
        "    {\n",
        "        \"price_approx_usd\": 36932.27,\n",
        "        \"surface_covered_in_m2\": 79,\n",
        "        \"rooms\": 3,\n",
        "    },\n",
        "    {\n",
        "        \"price_approx_usd\": 83903.51,\n",
        "        \"surface_covered_in_m2\": 111,\n",
        "        \"rooms\": 3,\n",
        "    },\n",
        "]\n",
        "\n",
        "# Print `houses_rowwise` object type\n",
        "print(\"houses_rowwise type:\", type(houses_rowwise))\n",
        "\n",
        "# Print `houses_rowwise` length\n",
        "print(\"houses_rowwise length:\", len(houses_rowwise))\n",
        "\n",
        "# Get output of `houses_rowwise`\n",
        "houses_rowwise"
      ],
      "metadata": {
        "id": "3lSsrHpwFBCF"
      },
      "execution_count": null,
      "outputs": []
    },
    {
      "cell_type": "markdown",
      "source": [
        "**Output**"
      ],
      "metadata": {
        "id": "dljZKS-UU3AG"
      }
    },
    {
      "cell_type": "code",
      "source": [
        "houses_rowwise type: <class 'list'>\n",
        "houses_rowwise length: 5\n",
        "\n",
        "[{'price_approx_usd': 115910.26, 'surface_covered_in_m2': 128, 'rooms': 4},\n",
        " {'price_approx_usd': 48718.17, 'surface_covered_in_m2': 210, 'rooms': 3},\n",
        " {'price_approx_usd': 28977.56, 'surface_covered_in_m2': 58, 'rooms': 2},\n",
        " {'price_approx_usd': 36932.27, 'surface_covered_in_m2': 79, 'rooms': 3},\n",
        " {'price_approx_usd': 83903.51, 'surface_covered_in_m2': 111, 'rooms': 3}]"
      ],
      "metadata": {
        "id": "Zsg71aIpFS3s"
      },
      "execution_count": null,
      "outputs": []
    },
    {
      "cell_type": "markdown",
      "source": [
        "This way of storing data is so popular, it has its own name: JSON. We'll learn more about it later in the course. For now, let's build another for loop, but this time, we'll add a add the price per square meter to each dictionary."
      ],
      "metadata": {
        "id": "uYVYCxL0FY9i"
      }
    },
    {
      "cell_type": "code",
      "source": [
        "# Create for loop to iterate through `houses_rowwise`\n",
        "\n",
        "    # For each observation, add \"price_per_m2\" key-value pair\n",
        "for house in houses_rowwise:\n",
        "    house[\"price_per_m2\"] = house[\"price_approx_usd\"] / house[\"surface_covered_in_m2\"]\n",
        "\n",
        "\n",
        "# Print `houses_rowwise` object type\n",
        "print(\"houses_rowwise type:\", type(houses_rowwise))\n",
        "\n",
        "# Print `houses_rowwise` length\n",
        "print(\"houses_rowwise length:\", len(houses_rowwise))\n",
        "\n",
        "# Get output of `houses_rowwise`\n",
        "houses_rowwise"
      ],
      "metadata": {
        "id": "BWWXFG44HAFC"
      },
      "execution_count": null,
      "outputs": []
    },
    {
      "cell_type": "markdown",
      "source": [
        "**Output**"
      ],
      "metadata": {
        "id": "l7xJHcC0U7Bw"
      }
    },
    {
      "cell_type": "code",
      "source": [
        "houses_rowwise type: <class 'list'>\n",
        "houses_rowwise length: 5\n",
        "\n",
        "[{'price_approx_usd': 115910.26,\n",
        "  'surface_covered_in_m2': 128,\n",
        "  'rooms': 4,\n",
        "  'price_per_m2': 905.54890625},\n",
        " {'price_approx_usd': 48718.17,\n",
        "  'surface_covered_in_m2': 210,\n",
        "  'rooms': 3,\n",
        "  'price_per_m2': 231.9912857142857},\n",
        " {'price_approx_usd': 28977.56,\n",
        "  'surface_covered_in_m2': 58,\n",
        "  'rooms': 2,\n",
        "  'price_per_m2': 499.61310344827587},\n",
        " {'price_approx_usd': 36932.27,\n",
        "  'surface_covered_in_m2': 79,\n",
        "  'rooms': 3,\n",
        "  'price_per_m2': 467.4970886075949},\n",
        " {'price_approx_usd': 83903.51,\n",
        "  'surface_covered_in_m2': 111,\n",
        "  'rooms': 3,\n",
        "  'price_per_m2': 755.8874774774774}]"
      ],
      "metadata": {
        "id": "m5OambtsHmS9"
      },
      "execution_count": null,
      "outputs": []
    },
    {
      "cell_type": "markdown",
      "source": [
        "JSON is a great way to organize data, but it does have some downsides. Note that each dictionary represents a single house or, if we think about it as tabular data, a row in our dataset. This means that it's pretty easy to do row-wise calculations (like we did with price per square meter), but column-wise calculations are more complicated. For instance, what if we wanted to know the mean house price for our dataset? First we'd need to collect the price for each house in a list and then calculate mean."
      ],
      "metadata": {
        "id": "CA6e4O2aHnVi"
      }
    },
    {
      "cell_type": "markdown",
      "source": [
        "**Task 1.1.6: To calculate the mean price for houses_rowwise by completing the code below.**"
      ],
      "metadata": {
        "id": "_c6vyns0HvPR"
      }
    },
    {
      "cell_type": "code",
      "source": [
        "# Declare `house_prices` as empty list\n",
        "house_prices = []\n",
        "for house in houses_rowwise:\n",
        "    house_prices.append(house[\"price_approx_usd\"])\n",
        "\n",
        "# Iterate through `houses_rowwise`\n",
        "\n",
        "    # For each house, append \"price_approx_usd\" to `house_prices`\n",
        "\n",
        "\n",
        "# Calculate `mean_house_price` using `house_prices`\n",
        "mean_house_price = sum(house_prices) / len(house_prices)\n",
        "\n",
        "# Print `mean_house_price` object type\n",
        "print(\"mean_house_price type:\", type(mean_house_price))\n",
        "\n",
        "# Get output of `mean_house_price`\n",
        "mean_house_price"
      ],
      "metadata": {
        "id": "s1MGHPAmHxxL"
      },
      "execution_count": null,
      "outputs": []
    },
    {
      "cell_type": "markdown",
      "source": [
        "**Output**"
      ],
      "metadata": {
        "id": "1TsIYDBcU_QD"
      }
    },
    {
      "cell_type": "code",
      "source": [
        "mean_house_price type: <class 'float'>\n",
        "\n",
        "62888.35399999999"
      ],
      "metadata": {
        "id": "TmWUDUjbH2E5"
      },
      "execution_count": null,
      "outputs": []
    },
    {
      "cell_type": "markdown",
      "source": [
        "One way to make this sort of calculation easier is to organize our data by features instead of observations. We'll still use dictionaries and lists, but we'll implement them a slightly differently."
      ],
      "metadata": {
        "id": "Twi8DROGH3y7"
      }
    },
    {
      "cell_type": "code",
      "source": [
        "# Declare variable `houses_columnwise`\n",
        "houses_columnwise = {\n",
        "    \"price_approx_usd\": [115910.26, 48718.17, 28977.56, 36932.27, 83903.51],\n",
        "    \"surface_covered_in_m2\": [128.0, 210.0, 58.0, 79.0, 111.0],\n",
        "    \"rooms\": [4.0, 3.0, 2.0, 3.0, 3.0],\n",
        "}\n",
        "\n",
        "# Print `houses_columnwise` object type\n",
        "print(\"houses_columnwise type:\", type(houses_columnwise))\n",
        "\n",
        "# Get output of `houses_columnwise`\n",
        "houses_columnwise"
      ],
      "metadata": {
        "id": "mTrhNfI-H7g-"
      },
      "execution_count": null,
      "outputs": []
    },
    {
      "cell_type": "markdown",
      "source": [
        "**Output**"
      ],
      "metadata": {
        "id": "SpTa10N2VBMA"
      }
    },
    {
      "cell_type": "code",
      "source": [
        "houses_columnwise type: <class 'dict'>\n",
        "\n",
        "{'price_approx_usd': [115910.26, 48718.17, 28977.56, 36932.27, 83903.51],\n",
        " 'surface_covered_in_m2': [128.0, 210.0, 58.0, 79.0, 111.0],\n",
        " 'rooms': [4.0, 3.0, 2.0, 3.0, 3.0]}"
      ],
      "metadata": {
        "id": "SjO5hF1oH_V7"
      },
      "execution_count": null,
      "outputs": []
    },
    {
      "cell_type": "markdown",
      "source": [
        "**Task 1.1.7: Calculate the mean house price in houses_columnwise**"
      ],
      "metadata": {
        "id": "XrIqkV4GIATs"
      }
    },
    {
      "cell_type": "code",
      "source": [
        "# Calculate `mean_house_price` using `houses_columnwise`\n",
        "mean_house_price = sum(houses_columnwise[\"price_approx_usd\"]) / len(houses_columnwise[\"price_approx_usd\"])\n",
        "\n",
        "# Print `mean_house_price` object type\n",
        "print(\"mean_house_price type:\", type(mean_house_price))\n",
        "\n",
        "# Get output of `mean_house_price`\n",
        "mean_house_price"
      ],
      "metadata": {
        "id": "506asGHBIEBS"
      },
      "execution_count": null,
      "outputs": []
    },
    {
      "cell_type": "markdown",
      "source": [
        "**Output**"
      ],
      "metadata": {
        "id": "QgfCr_9WVC7y"
      }
    },
    {
      "cell_type": "code",
      "source": [
        "mean_house_price type: <class 'float'>\n",
        "\n",
        "62888.35399999999"
      ],
      "metadata": {
        "id": "MPGIWOgoIGmC"
      },
      "execution_count": null,
      "outputs": []
    },
    {
      "cell_type": "markdown",
      "source": [
        "Of course, when we organize our data according to columns / features, row-wise operations become more difficult."
      ],
      "metadata": {
        "id": "iGiDMYvJIJfs"
      }
    },
    {
      "cell_type": "markdown",
      "source": [
        "**Task 1.1.8: Create a \"price_per_m2\" column in houses_columnwise?**"
      ],
      "metadata": {
        "id": "h1R2aDZXOXLE"
      }
    },
    {
      "cell_type": "code",
      "source": [
        "# Add \"price_per_m2\" key-value pair for `houses_columnwise`\n",
        "houses_columnwise[\"price_per_m2\"] = ...\n",
        "\n",
        "# Print `houses_columnwise` object type\n",
        "print(\"houses_columnwise type:\", type(houses_columnwise))\n",
        "\n",
        "# Get output of `houses_columnwise`\n",
        "houses_columnwise"
      ],
      "metadata": {
        "id": "-Jntl_pcOU0L"
      },
      "execution_count": null,
      "outputs": []
    },
    {
      "cell_type": "markdown",
      "source": [
        "#Tabular Data and pandas DataFrames"
      ],
      "metadata": {
        "id": "Ehy2UdDAOgKP"
      }
    },
    {
      "cell_type": "markdown",
      "source": [
        "While you've shown that you can wrangle data using lists and dictionaries, it's not as intuitive as working with, say, a spreadsheet. Fortunately, there are lots of libraries for Python that make it an even better tool for tabular data — way better than spreadsheet applications like Microsoft Excel or Google Sheets! One of the best known data science libraries is pandas, which allows you to organize data into DataFrames.\n",
        "\n",
        "Let's import pandas and then create a DataFrame from houses_columnwise.\n"
      ],
      "metadata": {
        "id": "R6gO-RNHOzYM"
      }
    },
    {
      "cell_type": "code",
      "source": [
        "# Import pandas library, aliased as `pd`\n",
        "import pandas as pd\n",
        "\n",
        "# Declare variable `df_houses`\n",
        "df_houses = pd.DataFrame(houses_columnwise)\n",
        "\n",
        "# Print `df_houses` object type\n",
        "print(\"df_houses type:\", type(df_houses))\n",
        "\n",
        "# Print `df_houses` shape\n",
        "print(\"df_houses shape:\", df_houses.shape)\n",
        "\n",
        "# Get output of `df_houses`\n",
        "df_houses"
      ],
      "metadata": {
        "id": "G8jq7UhNO0Qr"
      },
      "execution_count": null,
      "outputs": []
    },
    {
      "cell_type": "markdown",
      "source": [
        "**Output**"
      ],
      "metadata": {
        "id": "FY5gEX8gVNHk"
      }
    },
    {
      "cell_type": "code",
      "source": [
        "df_houses type: <class 'pandas.core.frame.DataFrame'>\n",
        "df_houses shape: (5, 3)\n",
        "\n",
        "\tprice_approx_usd \tsurface_covered_in_m2 \trooms\n",
        "0 \t115910.26 \t128.0 \t4.0\n",
        "1 \t48718.17 \t210.0 \t3.0\n",
        "2 \t28977.56 \t58.0 \t2.0\n",
        "3 \t36932.27 \t79.0 \t3.0\n",
        "4 \t83903.51 \t111.0 \t3.0"
      ],
      "metadata": {
        "id": "fk-Htg3TO5Z_"
      },
      "execution_count": null,
      "outputs": []
    },
    {
      "cell_type": "markdown",
      "source": [
        "Excellent work! You've mastered the concept of tabular data, understand the principles behind tidy data, and used lists and dictionaries to organize and augment our Mexico housing dataset. Next, we'll use these skills on the entire dataset — with over 150,000 observations — to better understand the real estate market in the country."
      ],
      "metadata": {
        "id": "qMTeDIjNO9fm"
      }
    }
  ]
}